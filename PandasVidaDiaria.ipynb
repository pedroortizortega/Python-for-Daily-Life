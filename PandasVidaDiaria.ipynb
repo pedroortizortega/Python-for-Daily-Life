{
 "cells": [
  {
   "cell_type": "markdown",
   "metadata": {},
   "source": [
    "# Pandas Para La Vida Diaria"
   ]
  },
  {
   "cell_type": "markdown",
   "metadata": {},
   "source": [
    "## 1. - Python es una boa?"
   ]
  },
  {
   "cell_type": "markdown",
   "metadata": {},
   "source": [
    "Python is an object-oriented, interpreted, and interactive programming language. Dado que es un lenguaje de programacion orientado a objetos Python tiene dos principales componentes, los estructuras de datos y las funciones."
   ]
  },
  {
   "cell_type": "markdown",
   "metadata": {},
   "source": [
    "## 1.1 - Estructura de Datos"
   ]
  },
  {
   "cell_type": "markdown",
   "metadata": {},
   "source": [
    "Las estructuras de datos se dividen en dos principalmente. Las estructuras primitivas y las no primitivas"
   ]
  },
  {
   "cell_type": "markdown",
   "metadata": {},
   "source": [
    "### Estructuras Primitivas"
   ]
  },
  {
   "cell_type": "markdown",
   "metadata": {},
   "source": [
    "#### Intergers"
   ]
  },
  {
   "cell_type": "code",
   "execution_count": 38,
   "metadata": {},
   "outputs": [
    {
     "data": {
      "text/plain": [
       "int"
      ]
     },
     "execution_count": 38,
     "metadata": {},
     "output_type": "execute_result"
    }
   ],
   "source": [
    "x = 2\n",
    "type(x)"
   ]
  },
  {
   "cell_type": "markdown",
   "metadata": {},
   "source": [
    "#### Float"
   ]
  },
  {
   "cell_type": "code",
   "execution_count": 39,
   "metadata": {},
   "outputs": [
    {
     "data": {
      "text/plain": [
       "float"
      ]
     },
     "execution_count": 39,
     "metadata": {},
     "output_type": "execute_result"
    }
   ],
   "source": [
    "y = 3.1416\n",
    "type(y)"
   ]
  },
  {
   "cell_type": "markdown",
   "metadata": {},
   "source": [
    "#### Strings"
   ]
  },
  {
   "cell_type": "code",
   "execution_count": 40,
   "metadata": {},
   "outputs": [
    {
     "data": {
      "text/plain": [
       "str"
      ]
     },
     "execution_count": 40,
     "metadata": {},
     "output_type": "execute_result"
    }
   ],
   "source": [
    "z = \"Hello world\"\n",
    "type(z)"
   ]
  },
  {
   "cell_type": "markdown",
   "metadata": {},
   "source": [
    "#### Boolean"
   ]
  },
  {
   "cell_type": "code",
   "execution_count": 41,
   "metadata": {},
   "outputs": [
    {
     "data": {
      "text/plain": [
       "bool"
      ]
     },
     "execution_count": 41,
     "metadata": {},
     "output_type": "execute_result"
    }
   ],
   "source": [
    "w = True\n",
    "v = False\n",
    "type(w)"
   ]
  },
  {
   "cell_type": "markdown",
   "metadata": {},
   "source": [
    "### Estructuras No Primitivas"
   ]
  },
  {
   "cell_type": "markdown",
   "metadata": {},
   "source": [
    "#### Array"
   ]
  },
  {
   "cell_type": "code",
   "execution_count": 42,
   "metadata": {},
   "outputs": [
    {
     "data": {
      "text/plain": [
       "numpy.ndarray"
      ]
     },
     "execution_count": 42,
     "metadata": {},
     "output_type": "execute_result"
    }
   ],
   "source": [
    "import numpy as np \n",
    "a = np.array([3,6,9])\n",
    "type(a)"
   ]
  },
  {
   "cell_type": "code",
   "execution_count": 43,
   "metadata": {},
   "outputs": [
    {
     "data": {
      "text/plain": [
       "array.array"
      ]
     },
     "execution_count": 43,
     "metadata": {},
     "output_type": "execute_result"
    }
   ],
   "source": [
    "import array as arr\n",
    "a = arr.array(\"I\",[3,6,9])\n",
    "type(a)"
   ]
  },
  {
   "cell_type": "markdown",
   "metadata": {},
   "source": [
    "#### List"
   ]
  },
  {
   "cell_type": "code",
   "execution_count": 44,
   "metadata": {},
   "outputs": [
    {
     "data": {
      "text/plain": [
       "list"
      ]
     },
     "execution_count": 44,
     "metadata": {},
     "output_type": "execute_result"
    }
   ],
   "source": [
    "ls = [1, \"2\" , \"three\", [ [ [3,\"three\"] ] ] ]\n",
    "type(ls)"
   ]
  },
  {
   "cell_type": "markdown",
   "metadata": {},
   "source": [
    "#### Tuplas"
   ]
  },
  {
   "cell_type": "code",
   "execution_count": 45,
   "metadata": {},
   "outputs": [
    {
     "data": {
      "text/plain": [
       "tuple"
      ]
     },
     "execution_count": 45,
     "metadata": {},
     "output_type": "execute_result"
    }
   ],
   "source": [
    "tuples = (1 , \"two\", [ [4, \"five\" ] ], ( 6, \"seven\" ) )\n",
    "type(tuples)"
   ]
  },
  {
   "cell_type": "code",
   "execution_count": 46,
   "metadata": {},
   "outputs": [
    {
     "name": "stdout",
     "output_type": "stream",
     "text": [
      "1\n",
      "55\n"
     ]
    }
   ],
   "source": [
    "print(ls[0])\n",
    "ls[0] = 55\n",
    "print(ls[0])"
   ]
  },
  {
   "cell_type": "code",
   "execution_count": 47,
   "metadata": {},
   "outputs": [
    {
     "name": "stdout",
     "output_type": "stream",
     "text": [
      "1\n"
     ]
    },
    {
     "ename": "TypeError",
     "evalue": "'tuple' object does not support item assignment",
     "output_type": "error",
     "traceback": [
      "\u001b[0;31m---------------------------------------------------------------------------\u001b[0m",
      "\u001b[0;31mTypeError\u001b[0m                                 Traceback (most recent call last)",
      "\u001b[0;32m<ipython-input-47-589ce63e49cc>\u001b[0m in \u001b[0;36m<module>\u001b[0;34m\u001b[0m\n\u001b[1;32m      1\u001b[0m \u001b[0;31m# Tupla o lista?\u001b[0m\u001b[0;34m\u001b[0m\u001b[0;34m\u001b[0m\u001b[0;34m\u001b[0m\u001b[0m\n\u001b[1;32m      2\u001b[0m \u001b[0mprint\u001b[0m\u001b[0;34m(\u001b[0m\u001b[0mtuples\u001b[0m\u001b[0;34m[\u001b[0m\u001b[0;36m0\u001b[0m\u001b[0;34m]\u001b[0m\u001b[0;34m)\u001b[0m\u001b[0;34m\u001b[0m\u001b[0;34m\u001b[0m\u001b[0m\n\u001b[0;32m----> 3\u001b[0;31m \u001b[0mtuples\u001b[0m\u001b[0;34m[\u001b[0m\u001b[0;36m0\u001b[0m\u001b[0;34m]\u001b[0m \u001b[0;34m=\u001b[0m \u001b[0;36m55\u001b[0m\u001b[0;34m\u001b[0m\u001b[0;34m\u001b[0m\u001b[0m\n\u001b[0m\u001b[1;32m      4\u001b[0m \u001b[0mprint\u001b[0m\u001b[0;34m(\u001b[0m\u001b[0mtuples\u001b[0m\u001b[0;34m[\u001b[0m\u001b[0;36m0\u001b[0m\u001b[0;34m]\u001b[0m\u001b[0;34m)\u001b[0m\u001b[0;34m\u001b[0m\u001b[0;34m\u001b[0m\u001b[0m\n",
      "\u001b[0;31mTypeError\u001b[0m: 'tuple' object does not support item assignment"
     ]
    }
   ],
   "source": [
    "# Tupla o lista?\n",
    "print(tuples[0])\n",
    "tuples[0] = 55\n",
    "print(tuples[0])"
   ]
  },
  {
   "cell_type": "markdown",
   "metadata": {},
   "source": [
    "As you can see, you can't change the tuple as a list"
   ]
  },
  {
   "cell_type": "markdown",
   "metadata": {},
   "source": [
    "#### Dictionarios"
   ]
  },
  {
   "cell_type": "code",
   "execution_count": 48,
   "metadata": {},
   "outputs": [
    {
     "data": {
      "text/plain": [
       "dict"
      ]
     },
     "execution_count": 48,
     "metadata": {},
     "output_type": "execute_result"
    }
   ],
   "source": [
    "dic = {\n",
    "    \"a\" : \"a\",\n",
    "    \"b\" : 1\n",
    "}\n",
    "type(dic)"
   ]
  },
  {
   "cell_type": "code",
   "execution_count": 49,
   "metadata": {},
   "outputs": [
    {
     "data": {
      "text/plain": [
       "dict"
      ]
     },
     "execution_count": 49,
     "metadata": {},
     "output_type": "execute_result"
    }
   ],
   "source": [
    " from collections import defaultdict\n",
    "d = defaultdict(list)\n",
    "d = {\n",
    "    1 : [2 , \"three\" , [4 , [\"five\"] ] ] ,\n",
    "    2 : [2 , [4]]\n",
    "}\n",
    "type(d)"
   ]
  },
  {
   "cell_type": "code",
   "execution_count": 50,
   "metadata": {},
   "outputs": [
    {
     "data": {
      "text/plain": [
       "dict"
      ]
     },
     "execution_count": 50,
     "metadata": {},
     "output_type": "execute_result"
    }
   ],
   "source": [
    " from collections import defaultdict\n",
    "d = defaultdict(tuple)\n",
    "d = {\n",
    "    \"a\" : (2 , \"three\" , [4 , [\"five\"] ] ) ,\n",
    "    2 : (2 , [4])\n",
    "}\n",
    "type(d)"
   ]
  },
  {
   "cell_type": "code",
   "execution_count": 51,
   "metadata": {},
   "outputs": [
    {
     "data": {
      "text/plain": [
       "(2, 'three', [4, ['five']])"
      ]
     },
     "execution_count": 51,
     "metadata": {},
     "output_type": "execute_result"
    }
   ],
   "source": [
    "d[\"a\"]"
   ]
  },
  {
   "cell_type": "markdown",
   "metadata": {},
   "source": [
    "#### Conjuntos"
   ]
  },
  {
   "cell_type": "code",
   "execution_count": 52,
   "metadata": {},
   "outputs": [
    {
     "name": "stdout",
     "output_type": "stream",
     "text": [
      "{'P', 'n', 'd', 's', 'A', 'a'}\n"
     ]
    }
   ],
   "source": [
    "xSet = set('PaAndas')\n",
    "ySet = set('Ultrapanda')\n",
    "\n",
    "print(xSet)"
   ]
  },
  {
   "cell_type": "code",
   "execution_count": 53,
   "metadata": {},
   "outputs": [
    {
     "data": {
      "text/plain": [
       "set"
      ]
     },
     "execution_count": 53,
     "metadata": {},
     "output_type": "execute_result"
    }
   ],
   "source": [
    "type(ySet)"
   ]
  },
  {
   "cell_type": "markdown",
   "metadata": {},
   "source": [
    "## 1 . 2 - Funciones"
   ]
  },
  {
   "cell_type": "markdown",
   "metadata": {},
   "source": [
    "Es un conjunto de instrucciones que se usaran repetidamente."
   ]
  },
  {
   "cell_type": "markdown",
   "metadata": {},
   "source": [
    "#### Built-in"
   ]
  },
  {
   "cell_type": "code",
   "execution_count": 54,
   "metadata": {},
   "outputs": [
    {
     "name": "stdout",
     "output_type": "stream",
     "text": [
      "A\n"
     ]
    }
   ],
   "source": [
    "print(\"A\")"
   ]
  },
  {
   "cell_type": "markdown",
   "metadata": {},
   "source": [
    "#### Definidas por el usuario"
   ]
  },
  {
   "cell_type": "code",
   "execution_count": 55,
   "metadata": {},
   "outputs": [
    {
     "data": {
      "text/plain": [
       "'A'"
      ]
     },
     "execution_count": 55,
     "metadata": {},
     "output_type": "execute_result"
    }
   ],
   "source": [
    "def imprimir(x):\n",
    "    return x\n",
    "imprimir(\"A\")"
   ]
  },
  {
   "cell_type": "markdown",
   "metadata": {},
   "source": [
    "#### Funciones Lambda"
   ]
  },
  {
   "cell_type": "code",
   "execution_count": 56,
   "metadata": {},
   "outputs": [
    {
     "data": {
      "text/plain": [
       "'A'"
      ]
     },
     "execution_count": 56,
     "metadata": {},
     "output_type": "execute_result"
    }
   ],
   "source": [
    "x = lambda x : x\n",
    "x(\"A\")"
   ]
  },
  {
   "cell_type": "code",
   "execution_count": 57,
   "metadata": {},
   "outputs": [
    {
     "data": {
      "text/plain": [
       "7"
      ]
     },
     "execution_count": 57,
     "metadata": {},
     "output_type": "execute_result"
    }
   ],
   "source": [
    "x = lambda x , y : x + 3*y\n",
    "x(1 , 2)"
   ]
  },
  {
   "cell_type": "markdown",
   "metadata": {},
   "source": [
    "## 1 . 3 - Metodos"
   ]
  },
  {
   "cell_type": "markdown",
   "metadata": {},
   "source": [
    "Los metodos son funciones que son parte de una clase"
   ]
  },
  {
   "cell_type": "markdown",
   "metadata": {},
   "source": [
    "## 1 . 4 - Parametros / Argumentos"
   ]
  },
  {
   "cell_type": "markdown",
   "metadata": {},
   "source": [
    "Parametros son los nombres con los cuales se definen las variables de una funcion una funcion o metodo. Mientras que los argumentos los valores que se les asigna a los parametros que seran utilizados en las funciones."
   ]
  },
  {
   "cell_type": "code",
   "execution_count": 58,
   "metadata": {},
   "outputs": [
    {
     "data": {
      "text/plain": [
       "4"
      ]
     },
     "execution_count": 58,
     "metadata": {},
     "output_type": "execute_result"
    }
   ],
   "source": [
    "def func(a, b,  d= 2):\n",
    "    f = b + a + d\n",
    "    return f   \n",
    "func(1 , 1)"
   ]
  },
  {
   "cell_type": "markdown",
   "metadata": {},
   "source": [
    "# Pandas"
   ]
  },
  {
   "cell_type": "markdown",
   "metadata": {},
   "source": [
    "## 2 . 1 - Pandas? Python es un zoologico?"
   ]
  },
  {
   "cell_type": "markdown",
   "metadata": {},
   "source": [
    "Pandas es una libreria de Python para manipular dataframes"
   ]
  },
  {
   "cell_type": "markdown",
   "metadata": {},
   "source": [
    "## 2 . 2 - Importar archivos"
   ]
  },
  {
   "cell_type": "code",
   "execution_count": 59,
   "metadata": {},
   "outputs": [],
   "source": [
    "import pandas as pd\n",
    "# Importing Excel files\n",
    "df = pd.read_excel(r\"data-course.xlsx\")"
   ]
  },
  {
   "cell_type": "code",
   "execution_count": 60,
   "metadata": {},
   "outputs": [],
   "source": [
    "# Importing CSV files\n",
    "df = pd.read_csv(r\"data-course.csv\")"
   ]
  },
  {
   "cell_type": "markdown",
   "metadata": {},
   "source": [
    "## 2 . 3 - Funcion para importar en Pandas"
   ]
  },
  {
   "cell_type": "markdown",
   "metadata": {},
   "source": [
    "### 2. 3 . 1 - Preliminares para la funcion"
   ]
  },
  {
   "cell_type": "code",
   "execution_count": 61,
   "metadata": {},
   "outputs": [
    {
     "name": "stdout",
     "output_type": "stream",
     "text": [
      "True\n"
     ]
    }
   ],
   "source": [
    "x = \"Djobi Djoba\"\n",
    "print(\"a\" in x)"
   ]
  },
  {
   "cell_type": "code",
   "execution_count": 62,
   "metadata": {},
   "outputs": [
    {
     "name": "stdout",
     "output_type": "stream",
     "text": [
      "false\n"
     ]
    }
   ],
   "source": [
    "y  = None\n",
    "if y:\n",
    "    print(\"true\")\n",
    "else:\n",
    "    print(\"false\")"
   ]
  },
  {
   "cell_type": "markdown",
   "metadata": {},
   "source": [
    "### 2 . 3 . 2 - Construyendo la funcion"
   ]
  },
  {
   "cell_type": "markdown",
   "metadata": {},
   "source": [
    "##### Importando un CSV"
   ]
  },
  {
   "cell_type": "code",
   "execution_count": 63,
   "metadata": {},
   "outputs": [],
   "source": [
    "import pandas as pd\n",
    "def importFiles(FileInit):\n",
    "    if \".csv\" in FileInit:\n",
    "        dfIn = pd.read_csv(FileInit)\n",
    "    else:\n",
    "        print(\"No file\")"
   ]
  },
  {
   "cell_type": "code",
   "execution_count": 64,
   "metadata": {},
   "outputs": [],
   "source": [
    "FileInit = r\"data-course.csv\"\n",
    "df = importFiles(FileInit)"
   ]
  },
  {
   "cell_type": "markdown",
   "metadata": {},
   "source": [
    "##### Importando un Excel"
   ]
  },
  {
   "cell_type": "code",
   "execution_count": 65,
   "metadata": {},
   "outputs": [],
   "source": [
    "import pandas as pd\n",
    "def importFiles(FileInit):\n",
    "    if \".xlsx\" in FileInit:\n",
    "        dfIn = pd.read_excel(FileInit)\n",
    "    else:\n",
    "        print(\"No file\")"
   ]
  },
  {
   "cell_type": "code",
   "execution_count": 66,
   "metadata": {},
   "outputs": [],
   "source": [
    "FileInit = r\"data-course.xlsx\"\n",
    "df = importFiles(FileInit)"
   ]
  },
  {
   "cell_type": "markdown",
   "metadata": {},
   "source": [
    "##### Juntando todos los Casos"
   ]
  },
  {
   "cell_type": "code",
   "execution_count": 67,
   "metadata": {},
   "outputs": [],
   "source": [
    "import pandas as pd\n",
    "def importFiles(FileInit):\n",
    "    if \".csv\" in FileInit:\n",
    "        dfIn = pd.read_csv(FileInit)\n",
    "    elif \".xlsx\" in FileInit:\n",
    "        dfIn = pd.read_excel(FileInit)\n",
    "    else:\n",
    "        dfIn = FileInit \n",
    "    return dfIn"
   ]
  },
  {
   "cell_type": "code",
   "execution_count": 68,
   "metadata": {},
   "outputs": [],
   "source": [
    "FileInit = r\"data-course.xlsx\"\n",
    "df = importFiles(FileInit)"
   ]
  },
  {
   "cell_type": "markdown",
   "metadata": {},
   "source": [
    "## 2 . 4 - Revisando que tiene el dataframe"
   ]
  },
  {
   "cell_type": "markdown",
   "metadata": {},
   "source": [
    ".head() es un metodo que se utiliza para observar que es lo que se encuentra dentro del Data Frame. Por default solo despliega las primeras 5 columnas, pero se puede cambiar para que despliegue mas columnas utilizando --> df.head(numeroColumnas)"
   ]
  },
  {
   "cell_type": "code",
   "execution_count": 69,
   "metadata": {},
   "outputs": [
    {
     "data": {
      "text/html": [
       "<div>\n",
       "<style scoped>\n",
       "    .dataframe tbody tr th:only-of-type {\n",
       "        vertical-align: middle;\n",
       "    }\n",
       "\n",
       "    .dataframe tbody tr th {\n",
       "        vertical-align: top;\n",
       "    }\n",
       "\n",
       "    .dataframe thead th {\n",
       "        text-align: right;\n",
       "    }\n",
       "</style>\n",
       "<table border=\"1\" class=\"dataframe\">\n",
       "  <thead>\n",
       "    <tr style=\"text-align: right;\">\n",
       "      <th></th>\n",
       "      <th>NAME</th>\n",
       "      <th>STREET</th>\n",
       "      <th>STATE</th>\n",
       "      <th>ZIP</th>\n",
       "      <th>PHONE</th>\n",
       "      <th>lat</th>\n",
       "      <th>long</th>\n",
       "    </tr>\n",
       "  </thead>\n",
       "  <tbody>\n",
       "    <tr>\n",
       "      <th>0</th>\n",
       "      <td>1</td>\n",
       "      <td>Los Angeles, CA 90044</td>\n",
       "      <td>NaN</td>\n",
       "      <td>NaN</td>\n",
       "      <td>(321) 111-2222</td>\n",
       "      <td>33</td>\n",
       "      <td>-118</td>\n",
       "    </tr>\n",
       "    <tr>\n",
       "      <th>1</th>\n",
       "      <td>2</td>\n",
       "      <td>12345 Something BlvdLos Angeles, CA 12345</td>\n",
       "      <td>NaN</td>\n",
       "      <td>NaN</td>\n",
       "      <td>(321) 111-2222</td>\n",
       "      <td>33</td>\n",
       "      <td>-118</td>\n",
       "    </tr>\n",
       "    <tr>\n",
       "      <th>2</th>\n",
       "      <td>3</td>\n",
       "      <td>12345 Something BlvdLos Angeles, CA 12346</td>\n",
       "      <td>NaN</td>\n",
       "      <td>NaN</td>\n",
       "      <td>(321) 111-2222</td>\n",
       "      <td>33</td>\n",
       "      <td>-118</td>\n",
       "    </tr>\n",
       "    <tr>\n",
       "      <th>3</th>\n",
       "      <td>4</td>\n",
       "      <td>12345 Something BlvdLos Angeles, CA 12347</td>\n",
       "      <td>NaN</td>\n",
       "      <td>NaN</td>\n",
       "      <td>(321) 111-2222</td>\n",
       "      <td>33</td>\n",
       "      <td>-118</td>\n",
       "    </tr>\n",
       "    <tr>\n",
       "      <th>4</th>\n",
       "      <td>5</td>\n",
       "      <td>12345 Something BlvdLos Angeles, CA 12348</td>\n",
       "      <td>NaN</td>\n",
       "      <td>NaN</td>\n",
       "      <td>(321) 111-2222</td>\n",
       "      <td>33</td>\n",
       "      <td>-118</td>\n",
       "    </tr>\n",
       "  </tbody>\n",
       "</table>\n",
       "</div>"
      ],
      "text/plain": [
       "   NAME                                     STREET  STATE  ZIP  \\\n",
       "0     1                      Los Angeles, CA 90044    NaN  NaN   \n",
       "1     2  12345 Something BlvdLos Angeles, CA 12345    NaN  NaN   \n",
       "2     3  12345 Something BlvdLos Angeles, CA 12346    NaN  NaN   \n",
       "3     4  12345 Something BlvdLos Angeles, CA 12347    NaN  NaN   \n",
       "4     5  12345 Something BlvdLos Angeles, CA 12348    NaN  NaN   \n",
       "\n",
       "            PHONE  lat  long  \n",
       "0  (321) 111-2222   33  -118  \n",
       "1  (321) 111-2222   33  -118  \n",
       "2  (321) 111-2222   33  -118  \n",
       "3  (321) 111-2222   33  -118  \n",
       "4  (321) 111-2222   33  -118  "
      ]
     },
     "execution_count": 69,
     "metadata": {},
     "output_type": "execute_result"
    }
   ],
   "source": [
    "df.head()"
   ]
  },
  {
   "cell_type": "markdown",
   "metadata": {},
   "source": [
    ".info() arroja imformacion del formato de cada columna"
   ]
  },
  {
   "cell_type": "code",
   "execution_count": 70,
   "metadata": {},
   "outputs": [
    {
     "name": "stdout",
     "output_type": "stream",
     "text": [
      "<class 'pandas.core.frame.DataFrame'>\n",
      "RangeIndex: 1782 entries, 0 to 1781\n",
      "Data columns (total 7 columns):\n",
      "NAME      1782 non-null int64\n",
      "STREET    1782 non-null object\n",
      "STATE     0 non-null float64\n",
      "ZIP       0 non-null float64\n",
      "PHONE     1782 non-null object\n",
      "lat       1782 non-null int64\n",
      "long      1782 non-null int64\n",
      "dtypes: float64(2), int64(3), object(2)\n",
      "memory usage: 97.5+ KB\n"
     ]
    }
   ],
   "source": [
    "df.info()"
   ]
  },
  {
   "cell_type": "markdown",
   "metadata": {},
   "source": [
    "## 2 . 5 - Separando una columna"
   ]
  },
  {
   "cell_type": "markdown",
   "metadata": {},
   "source": []
  },
  {
   "cell_type": "code",
   "execution_count": 71,
   "metadata": {},
   "outputs": [],
   "source": [
    "df = df[df[\"STREET\"].str.contains(\",\")]\n",
    "dfl = df[~df[\"STREET\"].str.contains(\",\")] \n",
    "street = df[\"STREET\"].str.split(pat=\",\", expand=True)"
   ]
  },
  {
   "cell_type": "code",
   "execution_count": 72,
   "metadata": {},
   "outputs": [
    {
     "data": {
      "text/plain": [
       "pandas.core.frame.DataFrame"
      ]
     },
     "execution_count": 72,
     "metadata": {},
     "output_type": "execute_result"
    }
   ],
   "source": [
    "type(street)"
   ]
  },
  {
   "cell_type": "code",
   "execution_count": 73,
   "metadata": {},
   "outputs": [
    {
     "data": {
      "text/html": [
       "<div>\n",
       "<style scoped>\n",
       "    .dataframe tbody tr th:only-of-type {\n",
       "        vertical-align: middle;\n",
       "    }\n",
       "\n",
       "    .dataframe tbody tr th {\n",
       "        vertical-align: top;\n",
       "    }\n",
       "\n",
       "    .dataframe thead th {\n",
       "        text-align: right;\n",
       "    }\n",
       "</style>\n",
       "<table border=\"1\" class=\"dataframe\">\n",
       "  <thead>\n",
       "    <tr style=\"text-align: right;\">\n",
       "      <th></th>\n",
       "      <th>0</th>\n",
       "      <th>1</th>\n",
       "    </tr>\n",
       "  </thead>\n",
       "  <tbody>\n",
       "    <tr>\n",
       "      <th>0</th>\n",
       "      <td>Los Angeles</td>\n",
       "      <td>CA 90044</td>\n",
       "    </tr>\n",
       "    <tr>\n",
       "      <th>1</th>\n",
       "      <td>12345 Something BlvdLos Angeles</td>\n",
       "      <td>CA 12345</td>\n",
       "    </tr>\n",
       "    <tr>\n",
       "      <th>2</th>\n",
       "      <td>12345 Something BlvdLos Angeles</td>\n",
       "      <td>CA 12346</td>\n",
       "    </tr>\n",
       "    <tr>\n",
       "      <th>3</th>\n",
       "      <td>12345 Something BlvdLos Angeles</td>\n",
       "      <td>CA 12347</td>\n",
       "    </tr>\n",
       "    <tr>\n",
       "      <th>4</th>\n",
       "      <td>12345 Something BlvdLos Angeles</td>\n",
       "      <td>CA 12348</td>\n",
       "    </tr>\n",
       "  </tbody>\n",
       "</table>\n",
       "</div>"
      ],
      "text/plain": [
       "                                 0          1\n",
       "0                      Los Angeles   CA 90044\n",
       "1  12345 Something BlvdLos Angeles   CA 12345\n",
       "2  12345 Something BlvdLos Angeles   CA 12346\n",
       "3  12345 Something BlvdLos Angeles   CA 12347\n",
       "4  12345 Something BlvdLos Angeles   CA 12348"
      ]
     },
     "execution_count": 73,
     "metadata": {},
     "output_type": "execute_result"
    }
   ],
   "source": [
    "street.head()"
   ]
  },
  {
   "cell_type": "code",
   "execution_count": 80,
   "metadata": {},
   "outputs": [],
   "source": [
    "street2 = street[1][street[1].notna()]"
   ]
  },
  {
   "cell_type": "code",
   "execution_count": 81,
   "metadata": {},
   "outputs": [
    {
     "data": {
      "text/plain": [
       "1782"
      ]
     },
     "execution_count": 81,
     "metadata": {},
     "output_type": "execute_result"
    }
   ],
   "source": [
    "len(street2)"
   ]
  },
  {
   "cell_type": "code",
   "execution_count": 82,
   "metadata": {},
   "outputs": [],
   "source": [
    "df[\"STREET\"] = street[0]\n",
    "df[\"STATE\"] = street[1]"
   ]
  },
  {
   "cell_type": "code",
   "execution_count": 83,
   "metadata": {},
   "outputs": [
    {
     "data": {
      "text/html": [
       "<div>\n",
       "<style scoped>\n",
       "    .dataframe tbody tr th:only-of-type {\n",
       "        vertical-align: middle;\n",
       "    }\n",
       "\n",
       "    .dataframe tbody tr th {\n",
       "        vertical-align: top;\n",
       "    }\n",
       "\n",
       "    .dataframe thead th {\n",
       "        text-align: right;\n",
       "    }\n",
       "</style>\n",
       "<table border=\"1\" class=\"dataframe\">\n",
       "  <thead>\n",
       "    <tr style=\"text-align: right;\">\n",
       "      <th></th>\n",
       "      <th>NAME</th>\n",
       "      <th>STREET</th>\n",
       "      <th>STATE</th>\n",
       "      <th>ZIP</th>\n",
       "      <th>PHONE</th>\n",
       "      <th>lat</th>\n",
       "      <th>long</th>\n",
       "    </tr>\n",
       "  </thead>\n",
       "  <tbody>\n",
       "    <tr>\n",
       "      <th>0</th>\n",
       "      <td>1</td>\n",
       "      <td>Los Angeles</td>\n",
       "      <td>CA 90044</td>\n",
       "      <td>NaN</td>\n",
       "      <td>(321) 111-2222</td>\n",
       "      <td>33</td>\n",
       "      <td>-118</td>\n",
       "    </tr>\n",
       "    <tr>\n",
       "      <th>1</th>\n",
       "      <td>2</td>\n",
       "      <td>12345 Something BlvdLos Angeles</td>\n",
       "      <td>CA 12345</td>\n",
       "      <td>NaN</td>\n",
       "      <td>(321) 111-2222</td>\n",
       "      <td>33</td>\n",
       "      <td>-118</td>\n",
       "    </tr>\n",
       "    <tr>\n",
       "      <th>2</th>\n",
       "      <td>3</td>\n",
       "      <td>12345 Something BlvdLos Angeles</td>\n",
       "      <td>CA 12346</td>\n",
       "      <td>NaN</td>\n",
       "      <td>(321) 111-2222</td>\n",
       "      <td>33</td>\n",
       "      <td>-118</td>\n",
       "    </tr>\n",
       "    <tr>\n",
       "      <th>3</th>\n",
       "      <td>4</td>\n",
       "      <td>12345 Something BlvdLos Angeles</td>\n",
       "      <td>CA 12347</td>\n",
       "      <td>NaN</td>\n",
       "      <td>(321) 111-2222</td>\n",
       "      <td>33</td>\n",
       "      <td>-118</td>\n",
       "    </tr>\n",
       "    <tr>\n",
       "      <th>4</th>\n",
       "      <td>5</td>\n",
       "      <td>12345 Something BlvdLos Angeles</td>\n",
       "      <td>CA 12348</td>\n",
       "      <td>NaN</td>\n",
       "      <td>(321) 111-2222</td>\n",
       "      <td>33</td>\n",
       "      <td>-118</td>\n",
       "    </tr>\n",
       "  </tbody>\n",
       "</table>\n",
       "</div>"
      ],
      "text/plain": [
       "   NAME                           STREET      STATE  ZIP           PHONE  lat  \\\n",
       "0     1                      Los Angeles   CA 90044  NaN  (321) 111-2222   33   \n",
       "1     2  12345 Something BlvdLos Angeles   CA 12345  NaN  (321) 111-2222   33   \n",
       "2     3  12345 Something BlvdLos Angeles   CA 12346  NaN  (321) 111-2222   33   \n",
       "3     4  12345 Something BlvdLos Angeles   CA 12347  NaN  (321) 111-2222   33   \n",
       "4     5  12345 Something BlvdLos Angeles   CA 12348  NaN  (321) 111-2222   33   \n",
       "\n",
       "   long  \n",
       "0  -118  \n",
       "1  -118  \n",
       "2  -118  \n",
       "3  -118  \n",
       "4  -118  "
      ]
     },
     "execution_count": 83,
     "metadata": {},
     "output_type": "execute_result"
    }
   ],
   "source": [
    "df.head()"
   ]
  },
  {
   "cell_type": "code",
   "execution_count": 84,
   "metadata": {},
   "outputs": [],
   "source": [
    "state = df[\"STATE\"].str.split(expand=True)"
   ]
  },
  {
   "cell_type": "code",
   "execution_count": 85,
   "metadata": {},
   "outputs": [
    {
     "data": {
      "text/html": [
       "<div>\n",
       "<style scoped>\n",
       "    .dataframe tbody tr th:only-of-type {\n",
       "        vertical-align: middle;\n",
       "    }\n",
       "\n",
       "    .dataframe tbody tr th {\n",
       "        vertical-align: top;\n",
       "    }\n",
       "\n",
       "    .dataframe thead th {\n",
       "        text-align: right;\n",
       "    }\n",
       "</style>\n",
       "<table border=\"1\" class=\"dataframe\">\n",
       "  <thead>\n",
       "    <tr style=\"text-align: right;\">\n",
       "      <th></th>\n",
       "      <th>0</th>\n",
       "      <th>1</th>\n",
       "    </tr>\n",
       "  </thead>\n",
       "  <tbody>\n",
       "    <tr>\n",
       "      <th>0</th>\n",
       "      <td>CA</td>\n",
       "      <td>90044</td>\n",
       "    </tr>\n",
       "    <tr>\n",
       "      <th>1</th>\n",
       "      <td>CA</td>\n",
       "      <td>12345</td>\n",
       "    </tr>\n",
       "    <tr>\n",
       "      <th>2</th>\n",
       "      <td>CA</td>\n",
       "      <td>12346</td>\n",
       "    </tr>\n",
       "    <tr>\n",
       "      <th>3</th>\n",
       "      <td>CA</td>\n",
       "      <td>12347</td>\n",
       "    </tr>\n",
       "    <tr>\n",
       "      <th>4</th>\n",
       "      <td>CA</td>\n",
       "      <td>12348</td>\n",
       "    </tr>\n",
       "  </tbody>\n",
       "</table>\n",
       "</div>"
      ],
      "text/plain": [
       "    0      1\n",
       "0  CA  90044\n",
       "1  CA  12345\n",
       "2  CA  12346\n",
       "3  CA  12347\n",
       "4  CA  12348"
      ]
     },
     "execution_count": 85,
     "metadata": {},
     "output_type": "execute_result"
    }
   ],
   "source": [
    "state.head()"
   ]
  },
  {
   "cell_type": "code",
   "execution_count": 86,
   "metadata": {},
   "outputs": [],
   "source": [
    "df[\"STATE\"] = state[0]\n",
    "df[\"ZIP\"] = state[1]"
   ]
  },
  {
   "cell_type": "code",
   "execution_count": 87,
   "metadata": {},
   "outputs": [
    {
     "data": {
      "text/html": [
       "<div>\n",
       "<style scoped>\n",
       "    .dataframe tbody tr th:only-of-type {\n",
       "        vertical-align: middle;\n",
       "    }\n",
       "\n",
       "    .dataframe tbody tr th {\n",
       "        vertical-align: top;\n",
       "    }\n",
       "\n",
       "    .dataframe thead th {\n",
       "        text-align: right;\n",
       "    }\n",
       "</style>\n",
       "<table border=\"1\" class=\"dataframe\">\n",
       "  <thead>\n",
       "    <tr style=\"text-align: right;\">\n",
       "      <th></th>\n",
       "      <th>NAME</th>\n",
       "      <th>STREET</th>\n",
       "      <th>STATE</th>\n",
       "      <th>ZIP</th>\n",
       "      <th>PHONE</th>\n",
       "      <th>lat</th>\n",
       "      <th>long</th>\n",
       "    </tr>\n",
       "  </thead>\n",
       "  <tbody>\n",
       "    <tr>\n",
       "      <th>0</th>\n",
       "      <td>1</td>\n",
       "      <td>Los Angeles</td>\n",
       "      <td>CA</td>\n",
       "      <td>90044</td>\n",
       "      <td>(321) 111-2222</td>\n",
       "      <td>33</td>\n",
       "      <td>-118</td>\n",
       "    </tr>\n",
       "    <tr>\n",
       "      <th>1</th>\n",
       "      <td>2</td>\n",
       "      <td>12345 Something BlvdLos Angeles</td>\n",
       "      <td>CA</td>\n",
       "      <td>12345</td>\n",
       "      <td>(321) 111-2222</td>\n",
       "      <td>33</td>\n",
       "      <td>-118</td>\n",
       "    </tr>\n",
       "    <tr>\n",
       "      <th>2</th>\n",
       "      <td>3</td>\n",
       "      <td>12345 Something BlvdLos Angeles</td>\n",
       "      <td>CA</td>\n",
       "      <td>12346</td>\n",
       "      <td>(321) 111-2222</td>\n",
       "      <td>33</td>\n",
       "      <td>-118</td>\n",
       "    </tr>\n",
       "    <tr>\n",
       "      <th>3</th>\n",
       "      <td>4</td>\n",
       "      <td>12345 Something BlvdLos Angeles</td>\n",
       "      <td>CA</td>\n",
       "      <td>12347</td>\n",
       "      <td>(321) 111-2222</td>\n",
       "      <td>33</td>\n",
       "      <td>-118</td>\n",
       "    </tr>\n",
       "    <tr>\n",
       "      <th>4</th>\n",
       "      <td>5</td>\n",
       "      <td>12345 Something BlvdLos Angeles</td>\n",
       "      <td>CA</td>\n",
       "      <td>12348</td>\n",
       "      <td>(321) 111-2222</td>\n",
       "      <td>33</td>\n",
       "      <td>-118</td>\n",
       "    </tr>\n",
       "  </tbody>\n",
       "</table>\n",
       "</div>"
      ],
      "text/plain": [
       "   NAME                           STREET STATE    ZIP           PHONE  lat  \\\n",
       "0     1                      Los Angeles    CA  90044  (321) 111-2222   33   \n",
       "1     2  12345 Something BlvdLos Angeles    CA  12345  (321) 111-2222   33   \n",
       "2     3  12345 Something BlvdLos Angeles    CA  12346  (321) 111-2222   33   \n",
       "3     4  12345 Something BlvdLos Angeles    CA  12347  (321) 111-2222   33   \n",
       "4     5  12345 Something BlvdLos Angeles    CA  12348  (321) 111-2222   33   \n",
       "\n",
       "   long  \n",
       "0  -118  \n",
       "1  -118  \n",
       "2  -118  \n",
       "3  -118  \n",
       "4  -118  "
      ]
     },
     "execution_count": 87,
     "metadata": {},
     "output_type": "execute_result"
    }
   ],
   "source": [
    "df.head()"
   ]
  },
  {
   "cell_type": "markdown",
   "metadata": {},
   "source": [
    "## 2 . 6 - Uniendo Columnas"
   ]
  },
  {
   "cell_type": "code",
   "execution_count": 88,
   "metadata": {},
   "outputs": [],
   "source": [
    "df[\"Zip_Code_State\"] = df[\"ZIP\"] + \"--\" + df[\"STATE\"]"
   ]
  },
  {
   "cell_type": "code",
   "execution_count": 89,
   "metadata": {},
   "outputs": [
    {
     "data": {
      "text/html": [
       "<div>\n",
       "<style scoped>\n",
       "    .dataframe tbody tr th:only-of-type {\n",
       "        vertical-align: middle;\n",
       "    }\n",
       "\n",
       "    .dataframe tbody tr th {\n",
       "        vertical-align: top;\n",
       "    }\n",
       "\n",
       "    .dataframe thead th {\n",
       "        text-align: right;\n",
       "    }\n",
       "</style>\n",
       "<table border=\"1\" class=\"dataframe\">\n",
       "  <thead>\n",
       "    <tr style=\"text-align: right;\">\n",
       "      <th></th>\n",
       "      <th>NAME</th>\n",
       "      <th>STREET</th>\n",
       "      <th>STATE</th>\n",
       "      <th>ZIP</th>\n",
       "      <th>PHONE</th>\n",
       "      <th>lat</th>\n",
       "      <th>long</th>\n",
       "      <th>Zip_Code_State</th>\n",
       "    </tr>\n",
       "  </thead>\n",
       "  <tbody>\n",
       "    <tr>\n",
       "      <th>0</th>\n",
       "      <td>1</td>\n",
       "      <td>Los Angeles</td>\n",
       "      <td>CA</td>\n",
       "      <td>90044</td>\n",
       "      <td>(321) 111-2222</td>\n",
       "      <td>33</td>\n",
       "      <td>-118</td>\n",
       "      <td>90044--CA</td>\n",
       "    </tr>\n",
       "    <tr>\n",
       "      <th>1</th>\n",
       "      <td>2</td>\n",
       "      <td>12345 Something BlvdLos Angeles</td>\n",
       "      <td>CA</td>\n",
       "      <td>12345</td>\n",
       "      <td>(321) 111-2222</td>\n",
       "      <td>33</td>\n",
       "      <td>-118</td>\n",
       "      <td>12345--CA</td>\n",
       "    </tr>\n",
       "    <tr>\n",
       "      <th>2</th>\n",
       "      <td>3</td>\n",
       "      <td>12345 Something BlvdLos Angeles</td>\n",
       "      <td>CA</td>\n",
       "      <td>12346</td>\n",
       "      <td>(321) 111-2222</td>\n",
       "      <td>33</td>\n",
       "      <td>-118</td>\n",
       "      <td>12346--CA</td>\n",
       "    </tr>\n",
       "    <tr>\n",
       "      <th>3</th>\n",
       "      <td>4</td>\n",
       "      <td>12345 Something BlvdLos Angeles</td>\n",
       "      <td>CA</td>\n",
       "      <td>12347</td>\n",
       "      <td>(321) 111-2222</td>\n",
       "      <td>33</td>\n",
       "      <td>-118</td>\n",
       "      <td>12347--CA</td>\n",
       "    </tr>\n",
       "    <tr>\n",
       "      <th>4</th>\n",
       "      <td>5</td>\n",
       "      <td>12345 Something BlvdLos Angeles</td>\n",
       "      <td>CA</td>\n",
       "      <td>12348</td>\n",
       "      <td>(321) 111-2222</td>\n",
       "      <td>33</td>\n",
       "      <td>-118</td>\n",
       "      <td>12348--CA</td>\n",
       "    </tr>\n",
       "  </tbody>\n",
       "</table>\n",
       "</div>"
      ],
      "text/plain": [
       "   NAME                           STREET STATE    ZIP           PHONE  lat  \\\n",
       "0     1                      Los Angeles    CA  90044  (321) 111-2222   33   \n",
       "1     2  12345 Something BlvdLos Angeles    CA  12345  (321) 111-2222   33   \n",
       "2     3  12345 Something BlvdLos Angeles    CA  12346  (321) 111-2222   33   \n",
       "3     4  12345 Something BlvdLos Angeles    CA  12347  (321) 111-2222   33   \n",
       "4     5  12345 Something BlvdLos Angeles    CA  12348  (321) 111-2222   33   \n",
       "\n",
       "   long Zip_Code_State  \n",
       "0  -118      90044--CA  \n",
       "1  -118      12345--CA  \n",
       "2  -118      12346--CA  \n",
       "3  -118      12347--CA  \n",
       "4  -118      12348--CA  "
      ]
     },
     "execution_count": 89,
     "metadata": {},
     "output_type": "execute_result"
    }
   ],
   "source": [
    "df.head()"
   ]
  },
  {
   "cell_type": "markdown",
   "metadata": {},
   "source": [
    "## 2 . 7 - Definir Indices"
   ]
  },
  {
   "cell_type": "code",
   "execution_count": 90,
   "metadata": {},
   "outputs": [],
   "source": [
    "df = df.set_index(\"NAME\")"
   ]
  },
  {
   "cell_type": "code",
   "execution_count": 91,
   "metadata": {},
   "outputs": [
    {
     "data": {
      "text/html": [
       "<div>\n",
       "<style scoped>\n",
       "    .dataframe tbody tr th:only-of-type {\n",
       "        vertical-align: middle;\n",
       "    }\n",
       "\n",
       "    .dataframe tbody tr th {\n",
       "        vertical-align: top;\n",
       "    }\n",
       "\n",
       "    .dataframe thead th {\n",
       "        text-align: right;\n",
       "    }\n",
       "</style>\n",
       "<table border=\"1\" class=\"dataframe\">\n",
       "  <thead>\n",
       "    <tr style=\"text-align: right;\">\n",
       "      <th></th>\n",
       "      <th>STREET</th>\n",
       "      <th>STATE</th>\n",
       "      <th>ZIP</th>\n",
       "      <th>PHONE</th>\n",
       "      <th>lat</th>\n",
       "      <th>long</th>\n",
       "      <th>Zip_Code_State</th>\n",
       "    </tr>\n",
       "    <tr>\n",
       "      <th>NAME</th>\n",
       "      <th></th>\n",
       "      <th></th>\n",
       "      <th></th>\n",
       "      <th></th>\n",
       "      <th></th>\n",
       "      <th></th>\n",
       "      <th></th>\n",
       "    </tr>\n",
       "  </thead>\n",
       "  <tbody>\n",
       "    <tr>\n",
       "      <th>1</th>\n",
       "      <td>Los Angeles</td>\n",
       "      <td>CA</td>\n",
       "      <td>90044</td>\n",
       "      <td>(321) 111-2222</td>\n",
       "      <td>33</td>\n",
       "      <td>-118</td>\n",
       "      <td>90044--CA</td>\n",
       "    </tr>\n",
       "    <tr>\n",
       "      <th>2</th>\n",
       "      <td>12345 Something BlvdLos Angeles</td>\n",
       "      <td>CA</td>\n",
       "      <td>12345</td>\n",
       "      <td>(321) 111-2222</td>\n",
       "      <td>33</td>\n",
       "      <td>-118</td>\n",
       "      <td>12345--CA</td>\n",
       "    </tr>\n",
       "    <tr>\n",
       "      <th>3</th>\n",
       "      <td>12345 Something BlvdLos Angeles</td>\n",
       "      <td>CA</td>\n",
       "      <td>12346</td>\n",
       "      <td>(321) 111-2222</td>\n",
       "      <td>33</td>\n",
       "      <td>-118</td>\n",
       "      <td>12346--CA</td>\n",
       "    </tr>\n",
       "    <tr>\n",
       "      <th>4</th>\n",
       "      <td>12345 Something BlvdLos Angeles</td>\n",
       "      <td>CA</td>\n",
       "      <td>12347</td>\n",
       "      <td>(321) 111-2222</td>\n",
       "      <td>33</td>\n",
       "      <td>-118</td>\n",
       "      <td>12347--CA</td>\n",
       "    </tr>\n",
       "    <tr>\n",
       "      <th>5</th>\n",
       "      <td>12345 Something BlvdLos Angeles</td>\n",
       "      <td>CA</td>\n",
       "      <td>12348</td>\n",
       "      <td>(321) 111-2222</td>\n",
       "      <td>33</td>\n",
       "      <td>-118</td>\n",
       "      <td>12348--CA</td>\n",
       "    </tr>\n",
       "  </tbody>\n",
       "</table>\n",
       "</div>"
      ],
      "text/plain": [
       "                               STREET STATE    ZIP           PHONE  lat  long  \\\n",
       "NAME                                                                            \n",
       "1                         Los Angeles    CA  90044  (321) 111-2222   33  -118   \n",
       "2     12345 Something BlvdLos Angeles    CA  12345  (321) 111-2222   33  -118   \n",
       "3     12345 Something BlvdLos Angeles    CA  12346  (321) 111-2222   33  -118   \n",
       "4     12345 Something BlvdLos Angeles    CA  12347  (321) 111-2222   33  -118   \n",
       "5     12345 Something BlvdLos Angeles    CA  12348  (321) 111-2222   33  -118   \n",
       "\n",
       "     Zip_Code_State  \n",
       "NAME                 \n",
       "1         90044--CA  \n",
       "2         12345--CA  \n",
       "3         12346--CA  \n",
       "4         12347--CA  \n",
       "5         12348--CA  "
      ]
     },
     "execution_count": 91,
     "metadata": {},
     "output_type": "execute_result"
    }
   ],
   "source": [
    "df.head()"
   ]
  },
  {
   "cell_type": "markdown",
   "metadata": {},
   "source": [
    "## 2 . 8 - Escribir Data Frame en un CSV"
   ]
  },
  {
   "cell_type": "code",
   "execution_count": 93,
   "metadata": {},
   "outputs": [],
   "source": [
    "df.to_csv(r\"PythonnewDataFrame.csv\")"
   ]
  },
  {
   "cell_type": "markdown",
   "metadata": {},
   "source": [
    "## 2 . 9 . - Voy a ganar mi primer millon ( Primer script)"
   ]
  },
  {
   "cell_type": "markdown",
   "metadata": {},
   "source": [
    "Ahora juntamos todo lo que se ha escrito en las previas celdas. Primero pegamos la funcion de importar archivos. Despues, creamos una funcion que se llame ProscensandoArchivos para hacer todo el proceso que se ha hecho en celdas anteriores. Primero mandamos a llamar a la funcion importFiles para crear el dataframe utilizando solo la direccion de archivo como variable. Luego, se pega todo el proceso que se hizo para limpiar los datos."
   ]
  },
  {
   "cell_type": "code",
   "execution_count": 96,
   "metadata": {},
   "outputs": [],
   "source": [
    "#-----------------------------------------------------\n",
    "#--> Importing libraries\n",
    "import pandas as pd\n",
    "#------------------------------------------------------\n",
    "#--> A function to import a csv or excel file\n",
    "def importFiles(FileInit):\n",
    "    if \".csv\" in FileInit:\n",
    "        dfIn = pd.read_csv(FileInit)\n",
    "    elif \".xlsx\" in FileInit:\n",
    "        dfIn = pd.read_excel(FileInit)\n",
    "    else:\n",
    "        dfIn = FileInit \n",
    "    return dfIn\n",
    "#------------------------------------------------------\n",
    "#--> A function to process the data\n",
    "def ProcesandoArchivos(initialFile, exitNameFile):\n",
    "    #-->  calling the importFiles function to make a DF\n",
    "    df = importFiles(initialFile)\n",
    "    #--> Split the DF by \",\" into the STREET column\n",
    "    df = df[df[\"STREET\"].str.contains(\",\")]\n",
    "    dfl = df[~df[\"STREET\"].str.contains(\",\")] \n",
    "    #--> Spliting the STREET columns with \",\" and getting a new DF\n",
    "    street = df[\"STREET\"].str.split(pat=\",\", expand=True)\n",
    "    #--> Overwriting the \"STREET\" column in the initial DF with the first column of the new one\n",
    "    df[\"STREET\"] = street[0]\n",
    "    #--> Overwriting the \"STATE\" column in the initial DF with the first column of the new one\n",
    "    df[\"STATE\"] = street[1]\n",
    "    #--> Spliting the STATE column into two\n",
    "    state = df[\"STATE\"].str.split(expand=True)\n",
    "    #--> Overwriting the STATE column with the first column of the state DF\n",
    "    df[\"STATE\"] = state[0]\n",
    "    #--> Overwriting the ZIP column with the second column of the state DF\n",
    "    df[\"ZIP\"] = state[1]\n",
    "    #--> Concantanating the columns ZIP and STATE into a new one called Zip_Code_State\n",
    "    df[\"Zip_Code_State\"] = df[\"ZIP\"] + \"--\" + df[\"STATE\"]\n",
    "    #--> Setting the index by NAME\n",
    "    df = df.set_index(\"NAME\")\n",
    "    #--> Writing a CSV with my DF\n",
    "    df.to_csv(exitNameFile)\n",
    "    return df\n",
    "#-------------------------------------------------------\n",
    "#--> Running the script\n",
    "initialFile = r\"data-course.xlsx\"\n",
    "exitNameFile = r\"data.csv\"\n",
    "df = ProcesandoArchivos(initialFile, exitNameFile)"
   ]
  }
 ],
 "metadata": {
  "kernelspec": {
   "display_name": "Python 3",
   "language": "python",
   "name": "python3"
  },
  "language_info": {
   "codemirror_mode": {
    "name": "ipython",
    "version": 3
   },
   "file_extension": ".py",
   "mimetype": "text/x-python",
   "name": "python",
   "nbconvert_exporter": "python",
   "pygments_lexer": "ipython3",
   "version": "3.7.1"
  },
  "latex_envs": {
   "LaTeX_envs_menu_present": true,
   "autoclose": true,
   "autocomplete": true,
   "bibliofile": "biblio.bib",
   "cite_by": "apalike",
   "current_citInitial": 1,
   "eqLabelWithNumbers": true,
   "eqNumInitial": 1,
   "hotkeys": {
    "equation": "Ctrl-E",
    "itemize": "Ctrl-I"
   },
   "labels_anchors": true,
   "latex_user_defs": true,
   "report_style_numbering": true,
   "user_envs_cfg": true
  }
 },
 "nbformat": 4,
 "nbformat_minor": 2
}
